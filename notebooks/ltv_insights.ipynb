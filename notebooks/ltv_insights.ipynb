{
  "cells": [
    {
      "cell_type": "markdown",
      "metadata": {},
      "source": [
        "# LTV & Loyalty Indicators\n",
        "Explore segment-level KPIs (avg spend, frequency, full-payment ratio)."
      ]
    },
    {
      "cell_type": "code",
      "metadata": {},
      "source": [
        "import pandas as pd\n",
        "import matplotlib.pyplot as plt\n",
        "df = pd.read_csv('../data/Customer_Dataset_engineered.csv')\n",
        "summary = df.groupby('SEGMENT').agg(customers=('CUST_ID','nunique'), avg_spend=('SPEND','mean'), avg_freq=('FREQ_SCORE','mean'), avg_fullpay=('PRC_FULL_PAYMENT','mean'), avg_adv_ratio=('ADVANCE_RATIO','mean')).reset_index().sort_values('SEGMENT')\n",
        "summary"
      ]
    },
    {
      "cell_type": "code",
      "metadata": {},
      "source": [
        "plt.figure(figsize=(7,4.5))\n",
        "plt.bar(summary['SEGMENT'], summary['avg_spend'])\n",
        "plt.title('Average Spend by Segment')\n",
        "plt.xlabel('Segment'); plt.ylabel('Average Spend'); plt.tight_layout(); plt.show()"
      ]
    }
  ],
  "metadata": {
    "kernelspec": {
      "display_name": "Python 3",
      "language": "python",
      "name": "python3"
    },
    "language_info": {
      "name": "python",
      "pygments_lexer": "ipython3"
    }
  },
  "nbformat": 4,
  "nbformat_minor": 5
}