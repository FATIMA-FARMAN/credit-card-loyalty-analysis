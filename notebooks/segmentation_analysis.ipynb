{
  "cells": [
    {
      "cell_type": "markdown",
      "metadata": {},
      "source": [
        "# Customer Segmentation & Feature Engineering\n",
        "This notebook builds engineered features and segments customers (Bronze/Silver/Gold)."
      ]
    },
    {
      "cell_type": "code",
      "metadata": {},
      "source": [
        "import pandas as pd, numpy as np\n",
        "df = pd.read_csv('../data/Customer_Dataset.csv')\n",
        "df['MINIMUM_PAYMENTS'] = df['MINIMUM_PAYMENTS'].fillna(df['MINIMUM_PAYMENTS'].median())\n",
        "df['CREDIT_LIMIT'] = df['CREDIT_LIMIT'].fillna(df['CREDIT_LIMIT'].median())\n",
        "df['SPEND'] = df['PURCHASES'] + df['ONEOFF_PURCHASES'] + df['INSTALLMENTS_PURCHASES']\n",
        "df['SPEND_TO_LIMIT'] = (df['SPEND'] / df['CREDIT_LIMIT']).replace([np.inf, -np.inf], 0).fillna(0)\n",
        "df['PAYMENT_TO_SPEND'] = (df['PAYMENTS'] / df['SPEND']).replace([np.inf, -np.inf], np.nan)\n",
        "df['ADVANCE_RATIO'] = (df['CASH_ADVANCE'] / df['SPEND']).replace([np.inf, -np.inf], 0).fillna(0)\n",
        "df['FREQ_SCORE'] = df['PURCHASES_FREQUENCY'] + df['ONEOFF_PURCHASES_FREQ'] + df['PURCHASES_INSTALLMENTS_FREQUENCY']\n",
        "df['LTV_SCORE_RAW'] = 0.5*df['SPEND_TO_LIMIT'] + 0.3*df['FREQ_SCORE'] + 0.2*df['PRC_FULL_PAYMENT'].fillna(0)\n",
        "q = df['LTV_SCORE_RAW'].quantile([0.33, 0.66]).values\n",
        "def seg(x):\n",
        "    return 'Bronze' if x<=q[0] else ('Silver' if x<=q[1] else 'Gold')\n",
        "df['SEGMENT'] = df['LTV_SCORE_RAW'].apply(seg)\n",
        "df.to_csv('../data/Customer_Dataset_engineered.csv', index=False)\n",
        "df.head()"
      ]
    }
  ],
  "metadata": {
    "kernelspec": {
      "display_name": "Python 3",
      "language": "python",
      "name": "python3"
    },
    "language_info": {
      "name": "python",
      "pygments_lexer": "ipython3"
    }
  },
  "nbformat": 4,
  "nbformat_minor": 5
}