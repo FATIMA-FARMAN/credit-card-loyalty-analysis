{
  "cells": [
    {
      "cell_type": "markdown",
      "metadata": {},
      "source": [
        "# Repayment Behavior\n",
        "Analyze payment-to-spend and full payment ratios."
      ]
    },
    {
      "cell_type": "code",
      "metadata": {},
      "source": [
        "import pandas as pd\n",
        "import matplotlib.pyplot as plt\n",
        "df = pd.read_csv('../data/Customer_Dataset_engineered.csv')\n",
        "plt.figure(figsize=(7,4.5))\n",
        "plt.hist(df['SPEND_TO_LIMIT'].clip(upper=5.0).dropna(), bins=40)\n",
        "plt.title('Distribution: Spend-to-Limit Ratio')\n",
        "plt.xlabel('Spend / Credit Limit (capped at 5x)'); plt.ylabel('Count'); plt.tight_layout(); plt.show()"
      ]
    },
    {
      "cell_type": "code",
      "metadata": {},
      "source": [
        "import numpy as np\n",
        "data = [df.loc[df['SEGMENT']==seg, 'PAYMENT_TO_SPEND'].dropna().clip(upper=5.0) for seg in ['Bronze','Silver','Gold']]\n",
        "plt.figure(figsize=(7,4.5))\n",
        "plt.boxplot(data, labels=['Bronze','Silver','Gold'])\n",
        "plt.title('Payment-to-Spend Ratio by Segment')\n",
        "plt.ylabel('Payments / Spend'); plt.tight_layout(); plt.show()"
      ]
    }
  ],
  "metadata": {
    "kernelspec": {
      "display_name": "Python 3",
      "language": "python",
      "name": "python3"
    },
    "language_info": {
      "name": "python",
      "pygments_lexer": "ipython3"
    }
  },
  "nbformat": 4,
  "nbformat_minor": 5
}